{
  "nbformat": 4,
  "nbformat_minor": 0,
  "metadata": {
    "colab": {
      "provenance": [],
      "authorship_tag": "ABX9TyOv9CcD3DCrYmZaccjkLKmo",
      "include_colab_link": true
    },
    "kernelspec": {
      "name": "python3",
      "display_name": "Python 3"
    },
    "language_info": {
      "name": "python"
    }
  },
  "cells": [
    {
      "cell_type": "markdown",
      "metadata": {
        "id": "view-in-github",
        "colab_type": "text"
      },
      "source": [
        "<a href=\"https://colab.research.google.com/github/cheshtabiala/Python-Assignment_Challenge/blob/main/Assignment_Challenge_BasicsofPython.ipynb\" target=\"_parent\"><img src=\"https://colab.research.google.com/assets/colab-badge.svg\" alt=\"Open In Colab\"/></a>"
      ]
    },
    {
      "cell_type": "markdown",
      "source": [
        "Q1.  L is defined as L=[11,12,13,14]\n",
        "    \n",
        "    \n",
        "   "
      ],
      "metadata": {
        "id": "d8FqjNs9S-yn"
      }
    },
    {
      "cell_type": "code",
      "source": [
        "L=[11,12,13,14]\n",
        "print(\"List:-\",L)\n",
        "#Add 50 and 60 to L\n",
        "L.append(50)\n",
        "L.append(60)\n",
        "print(\"List after adding:-\",L)\n",
        "#Remove 11 and 13 from L\n",
        "L.remove(11)\n",
        "L.remove(13)\n",
        "print(\"List after removing:-\",L)\n",
        "#sort L in ascending order\n",
        "L.sort()\n",
        "print(\"List after sorting in ascending order:-\",L)\n",
        "#sort L in descending order\n",
        "L.sort(reverse=True)\n",
        "print(\"List after sorting in descending order:-\",L)\n",
        "#search in  L \n",
        "print(\"13 is in list--> \",13 in L)\n",
        "#count of elements in  L \n",
        "print(\"Count of elements in  L --> \",len(L))\n",
        "#sum of all elememts in L\n",
        "print(\"Sum of all elements:-\",sum(L))\n",
        "#sum of all odd numbers in L\n",
        "print(\"Sum of Oddnumbers is:-\", sum([i for i in L if i%2 !=0]))\n",
        "#sum of all even numbers in L\n",
        "print(\"Sum of Evennumbers is:-\", sum([i for i in L if i%2 ==0]))\n",
        "#sum of all prime numbers in L\n",
        "def IsPrime(i):\n",
        "  if i<2:\n",
        "    return 0\n",
        "  for n in range(2,i//2+1):\n",
        "    if i%2==0:\n",
        "      return 0\n",
        "  return 1\n",
        "print(\"Sum of Primenumbers is:-\", sum([num for num in L if IsPrime(num)==1]))\n",
        "#Clear all elements in L\n",
        "L.clear()\n",
        "print(\"After clearing all elements in L:-\",L)\n",
        "#delete all elements in L\n",
        "del L\n",
        "#print(\"After deleting all elements in L:-\",L)"
      ],
      "metadata": {
        "colab": {
          "base_uri": "https://localhost:8080/"
        },
        "id": "O1qCbLgxTToL",
        "outputId": "06ed42a8-e85e-47e1-b8fe-0fd5a1a29a9a"
      },
      "execution_count": null,
      "outputs": [
        {
          "output_type": "stream",
          "name": "stdout",
          "text": [
            "List:- [11, 12, 13, 14]\n",
            "List after adding:- [11, 12, 13, 14, 50, 60]\n",
            "List after removing:- [12, 14, 50, 60]\n",
            "List after sorting in ascending order:- [12, 14, 50, 60]\n",
            "List after sorting in descending order:- [60, 50, 14, 12]\n",
            "13 is in list-->  False\n",
            "Count of elements in  L -->  4\n",
            "Sum of all elements:- 136\n",
            "Sum of Oddnumbers is:- 0\n",
            "Sum of Evennumbers is:- 136\n",
            "Sum of Primenumbers is:- 0\n",
            "After clearing all elements in L:- []\n"
          ]
        }
      ]
    },
    {
      "cell_type": "markdown",
      "source": [
        "Q.2. D is a dictionary defined as D=[1:5.6,2:7.8,3:6.6,4:8.7,5:7.7]"
      ],
      "metadata": {
        "id": "oksi13QkdcIZ"
      }
    },
    {
      "cell_type": "code",
      "source": [],
      "metadata": {
        "id": "3bFyv6H_dbQB"
      },
      "execution_count": null,
      "outputs": []
    }
  ]
}