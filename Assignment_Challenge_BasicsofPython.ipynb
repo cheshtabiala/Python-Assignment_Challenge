{
  "nbformat": 4,
  "nbformat_minor": 0,
  "metadata": {
    "colab": {
      "provenance": [],
      "authorship_tag": "ABX9TyOvphDe7irHAN2WvTAN2QtH",
      "include_colab_link": true
    },
    "kernelspec": {
      "name": "python3",
      "display_name": "Python 3"
    },
    "language_info": {
      "name": "python"
    }
  },
  "cells": [
    {
      "cell_type": "markdown",
      "metadata": {
        "id": "view-in-github",
        "colab_type": "text"
      },
      "source": [
        "<a href=\"https://colab.research.google.com/github/cheshtabiala/Python-Assignment_Challenge/blob/main/Assignment_Challenge_BasicsofPython.ipynb\" target=\"_parent\"><img src=\"https://colab.research.google.com/assets/colab-badge.svg\" alt=\"Open In Colab\"/></a>"
      ]
    },
    {
      "cell_type": "markdown",
      "source": [
        "Q1.  L is defined as L=[11,12,13,14]\n",
        "\n",
        "\n"
      ],
      "metadata": {
        "id": "d8FqjNs9S-yn"
      }
    },
    {
      "cell_type": "code",
      "source": [
        "L=[11,12,13,14]\n",
        "print(\"List:-\",L)\n",
        "#Add 50 and 60 to L\n",
        "L.append(50)\n",
        "L.append(60)\n",
        "print(\"List after adding:-\",L)\n",
        "#Remove 11 and 13 from L\n",
        "L.remove(11)\n",
        "L.remove(13)\n",
        "print(\"List after removing:-\",L)\n",
        "#sort L in ascending order\n",
        "L.sort()\n",
        "print(\"List after sorting in ascending order:-\",L)\n",
        "#sort L in descending order\n",
        "L.sort(reverse=True)\n",
        "print(\"List after sorting in descending order:-\",L)\n",
        "#search in  L\n",
        "print(\"13 is in list--> \",13 in L)\n",
        "#count of elements in  L\n",
        "print(\"Count of elements in  L --> \",len(L))\n",
        "#sum of all elememts in L\n",
        "print(\"Sum of all elements:-\",sum(L))\n",
        "#sum of all odd numbers in L\n",
        "print(\"Sum of Oddnumbers is:-\", sum([i for i in L if i%2 !=0]))\n",
        "#sum of all even numbers in L\n",
        "print(\"Sum of Evennumbers is:-\", sum([i for i in L if i%2 ==0]))\n",
        "#sum of all prime numbers in L\n",
        "def IsPrime(i):\n",
        "  if i<2:\n",
        "    return 0\n",
        "  for n in range(2,i//2+1):\n",
        "    if i%2==0:\n",
        "      return 0\n",
        "  return 1\n",
        "print(\"Sum of Primenumbers is:-\", sum([num for num in L if IsPrime(num)==1]))\n",
        "#Clear all elements in L\n",
        "L.clear()\n",
        "print(\"After clearing all elements in L:-\",L)\n",
        "#delete all elements in L\n",
        "del L\n",
        "#print(\"After deleting all elements in L:-\",L)"
      ],
      "metadata": {
        "colab": {
          "base_uri": "https://localhost:8080/"
        },
        "id": "O1qCbLgxTToL",
        "outputId": "06ed42a8-e85e-47e1-b8fe-0fd5a1a29a9a"
      },
      "execution_count": null,
      "outputs": [
        {
          "output_type": "stream",
          "name": "stdout",
          "text": [
            "List:- [11, 12, 13, 14]\n",
            "List after adding:- [11, 12, 13, 14, 50, 60]\n",
            "List after removing:- [12, 14, 50, 60]\n",
            "List after sorting in ascending order:- [12, 14, 50, 60]\n",
            "List after sorting in descending order:- [60, 50, 14, 12]\n",
            "13 is in list-->  False\n",
            "Count of elements in  L -->  4\n",
            "Sum of all elements:- 136\n",
            "Sum of Oddnumbers is:- 0\n",
            "Sum of Evennumbers is:- 136\n",
            "Sum of Primenumbers is:- 0\n",
            "After clearing all elements in L:- []\n"
          ]
        }
      ]
    },
    {
      "cell_type": "markdown",
      "source": [
        "Q.2. D is a dictionary defined as D=[1:5.6,2:7.8,3:6.6,4:8.7,5:7.7]"
      ],
      "metadata": {
        "id": "oksi13QkdcIZ"
      }
    },
    {
      "cell_type": "code",
      "source": [
        "D={1:5.6,2:7.8,3:6.6,4:8.7,5:7.7}\n",
        "print(\"Dictionary\",D)\n",
        "#New entry in D\n",
        "D[8]=8.8\n",
        "print(D)\n",
        "#delete element key=2\n",
        "del D[2]\n",
        "print(D)\n",
        "#check whether 6 key is present in D\n",
        "print(\"6 Key is present?;-\",6 in D)\n",
        "#count the number of elements in D\n",
        "print(\"No. of elements in D:-\",len(D))\n",
        "#Add all the values in D\n",
        "L=list(D.values())\n",
        "print(L)\n",
        "print(\"Sum of values in dictionary\",sum(L))\n",
        "#update value 3 to 7.1\n",
        "#D[3]=7.1\n",
        "#print(D)\n",
        "#clear th dictionary\n",
        "#D.clear\n",
        "#print(D)"
      ],
      "metadata": {
        "id": "3bFyv6H_dbQB",
        "outputId": "40c5dd70-4d48-4145-ddf5-03a0f64f3d48",
        "colab": {
          "base_uri": "https://localhost:8080/"
        }
      },
      "execution_count": null,
      "outputs": [
        {
          "output_type": "stream",
          "name": "stdout",
          "text": [
            "Dictionary {1: 5.6, 2: 7.8, 3: 6.6, 4: 8.7, 5: 7.7}\n",
            "{1: 5.6, 2: 7.8, 3: 6.6, 4: 8.7, 5: 7.7, 8: 8.8}\n",
            "{1: 5.6, 3: 6.6, 4: 8.7, 5: 7.7, 8: 8.8}\n",
            "6 Key is present?;- False\n",
            "No. of elements in D;- 5\n",
            "[5.6, 6.6, 8.7, 7.7, 8.8]\n",
            "Sum of values in dictionary 37.4\n"
          ]
        }
      ]
    },
    {
      "cell_type": "markdown",
      "source": [
        "Q.3. S1 is defined as S1=[10,20,30,40,50,60]\n",
        "S2 is defined as S2=[40,50,60,70,80,90]"
      ],
      "metadata": {
        "id": "xBEfekPs-TJm"
      }
    },
    {
      "cell_type": "code",
      "source": [
        "S1=set(['10','20','30','40','50','60'])\n",
        "S2=set(['40','50','60','70','80','90'])\n",
        "#add 55 and 66 in set1\n",
        "S1.add('55')\n",
        "S1.add('66')\n",
        "print(\"After adding numbers\", S1)\n",
        "#removed 10 and 30 from set set1\n",
        "S1.remove('10')\n",
        "S1.remove('30')\n",
        "print(\"After removing numbers\",S1)\n",
        "#check whether 40 is present in set1\n",
        "print(\"Is 40 present or not in set1:-\",40 in S1)\n",
        "\n",
        "#find union between set1 and set2\n",
        "print(\"Union of S1 and S2\",S1.union(S2))\n",
        "\n",
        "#find intersection between set1 and set2\n",
        "print(\"Union of S1 and S2\",S1.intersection(S2))\n",
        "\n",
        "#find s1-s2\n",
        "print(\" S1 - S2\",S1.difference(S2))"
      ],
      "metadata": {
        "id": "nS9aO_Hy-Rz2",
        "outputId": "7b5b93a1-7566-42ed-a091-93d288d00d44",
        "colab": {
          "base_uri": "https://localhost:8080/"
        }
      },
      "execution_count": null,
      "outputs": [
        {
          "output_type": "stream",
          "name": "stdout",
          "text": [
            "After adding numbers {'50', '40', '55', '20', '60', '66', '30', '10'}\n",
            "After removing numbers {'50', '40', '55', '20', '60', '66'}\n",
            "Is 40 present or not in set1:- False\n",
            "Union of S1 and S2 {'80', '50', '40', '55', '90', '20', '60', '66', '70'}\n",
            "Union of S1 and S2 {'50', '60', '40'}\n",
            " S1 - S2 {'55', '66', '20'}\n"
          ]
        }
      ]
    },
    {
      "cell_type": "markdown",
      "source": [],
      "metadata": {
        "id": "HM4qsXOoJv_W"
      }
    },
    {
      "cell_type": "markdown",
      "source": [],
      "metadata": {
        "id": "85hfd67hJxoy"
      }
    },
    {
      "cell_type": "markdown",
      "source": [
        "Q.3 WAP to these three questions"
      ],
      "metadata": {
        "id": "S_YDDzfAJ7Kc"
      }
    },
    {
      "cell_type": "code",
      "source": [
        "#print random 100 strings whose length between 6 and 8\n",
        "import random as r\n",
        "import string as s\n",
        "for i in range(100):\n",
        "  len=r.randint(6,8)\n",
        "  random_string=''.join(r.sample(s.ascii_letters,len))\n",
        "  print(random_string)\n",
        "\n",
        "#print all prime numbers between 600 and 800\n",
        "def IsPrime(n):\n",
        "\n",
        "  for i in range(2,n//2+1):\n",
        "    if n%i==0:\n",
        "      return False\n",
        "  return True\n",
        "\n",
        "for n in range(600,801):\n",
        "  if IsPrime(n)==True:\n",
        "    print(n)\n",
        "\n",
        "#print all numbers between 100 and 1000 that are divisible by 7 and 9\n",
        "def Div(n):\n",
        "  if n%63==0:\n",
        "    return True\n",
        "L=[]\n",
        "for n in range(100,1001):\n",
        "  if Div(n):\n",
        "    L.append(n)#to store it in list\n",
        "print(L)\n",
        "\n",
        "\n",
        "\n",
        "\n"
      ],
      "metadata": {
        "id": "TkzgXlFIKAhY",
        "outputId": "cfbe298e-90bc-4d0e-b607-824efcfbbe47",
        "colab": {
          "base_uri": "https://localhost:8080/"
        }
      },
      "execution_count": null,
      "outputs": [
        {
          "output_type": "stream",
          "name": "stdout",
          "text": [
            "qaPHcFYf\n",
            "dgzlnIE\n",
            "NwAogGLC\n",
            "Ucpiobja\n",
            "VhWrPJ\n",
            "kauwsVXO\n",
            "coMrsH\n",
            "ELMIFV\n",
            "iRkhPS\n",
            "OVlxPvh\n",
            "AvfsWaqz\n",
            "zItBeNds\n",
            "gyxpSina\n",
            "umeCisZx\n",
            "rLSuyZjw\n",
            "sZoGtHJh\n",
            "uZdWpiKc\n",
            "wIfblm\n",
            "WqYKlES\n",
            "wqBJdW\n",
            "bCqVoF\n",
            "NTqIYGbV\n",
            "wxDbpt\n",
            "bZkKJtF\n",
            "SHpdinJR\n",
            "RbGwcntF\n",
            "kKSAPj\n",
            "FbrmMCXf\n",
            "AUHQxk\n",
            "DIOeLc\n",
            "tzcCwUkG\n",
            "lvZKTn\n",
            "lFQGsEM\n",
            "NbHzaB\n",
            "eikqyo\n",
            "sPTLReno\n",
            "yEYcmJ\n",
            "LpEHBzb\n",
            "LRfYzxr\n",
            "xELdkbcf\n",
            "NkLagR\n",
            "UKWGzXF\n",
            "iswKRly\n",
            "ozqxfHaO\n",
            "jKUvDNax\n",
            "ZgDqFRtN\n",
            "qiJbQopm\n",
            "fyYFVB\n",
            "ASwQfJZ\n",
            "WHBoYTEg\n",
            "yIFLwtQ\n",
            "VQZNWzDv\n",
            "ajioQl\n",
            "RujgwiIY\n",
            "ryanhe\n",
            "TDAqsQf\n",
            "QOVsgDGH\n",
            "cdwgYzJ\n",
            "aCfPGZ\n",
            "QkHaPsu\n",
            "QzcdIK\n",
            "EAjQYhw\n",
            "VncGKmvM\n",
            "EfJcGW\n",
            "zTBqwb\n",
            "vYhbtQ\n",
            "rhOaxJU\n",
            "qAuMhk\n",
            "NhbSgBQ\n",
            "qFPLWNvo\n",
            "nXoMcsv\n",
            "uLVlFOg\n",
            "JAgltCUF\n",
            "YLlzhC\n",
            "ZLmzQcpu\n",
            "BbTOISF\n",
            "DdhtoL\n",
            "ipBsMQI\n",
            "PfygzjOX\n",
            "uOQYxGq\n",
            "OxzPXg\n",
            "pmwuoD\n",
            "cGRTkKU\n",
            "NmhCOeHK\n",
            "iQozcJh\n",
            "ysGeBIgm\n",
            "IEWHSfC\n",
            "KYxHckvZ\n",
            "TRfqVI\n",
            "tQEFhZm\n",
            "mGdaxpck\n",
            "TtcGxgyh\n",
            "xQwaMuHk\n",
            "ukVnLQ\n",
            "Vezwna\n",
            "obFeVy\n",
            "IoOizZlW\n",
            "yZrXWK\n",
            "QGRusrI\n",
            "pmiLHIt\n",
            "601\n",
            "607\n",
            "613\n",
            "617\n",
            "619\n",
            "631\n",
            "641\n",
            "643\n",
            "647\n",
            "653\n",
            "659\n",
            "661\n",
            "673\n",
            "677\n",
            "683\n",
            "691\n",
            "701\n",
            "709\n",
            "719\n",
            "727\n",
            "733\n",
            "739\n",
            "743\n",
            "751\n",
            "757\n",
            "761\n",
            "769\n",
            "773\n",
            "787\n",
            "797\n",
            "[126, 189, 252, 315, 378, 441, 504, 567, 630, 693, 756, 819, 882, 945]\n"
          ]
        }
      ]
    },
    {
      "cell_type": "markdown",
      "source": [
        "Q4.WAP to create two lists of 10 random numbers between 10 and 30 .Find:-"
      ],
      "metadata": {
        "id": "fSyN-L7YmRcU"
      }
    },
    {
      "cell_type": "code",
      "source": [
        "import random as r\n",
        "L1=r.sample(range(10,30),10)\n",
        "L2=r.sample(range(10,30),10)\n",
        "print(L1)\n",
        "print(L2)\n",
        "#common numbers in two lists\n",
        "print(\"common numbers in two lists\",list(set(L1).intersection(L2)))\n",
        "#unique numbers in both lists\n",
        "print(\"unique numbers in both lists\",list(set(L1+L2)))\n",
        "#minimum in both lists\n",
        "print(\"minimum in both lists\",min(set(L1+L2)))\n",
        "#maximum in both lists\n",
        "print(\"maximum in both lists\",max(set(L1+L2)))\n",
        "#sum of both lists\n",
        "print(\"sum of both lists\",sum(set(L1+L2)))"
      ],
      "metadata": {
        "id": "uL7mAGUGrfDX",
        "outputId": "52a5ae91-a2b9-4f3a-fa5b-762e5e776ab6",
        "colab": {
          "base_uri": "https://localhost:8080/"
        }
      },
      "execution_count": null,
      "outputs": [
        {
          "output_type": "stream",
          "name": "stdout",
          "text": [
            "[29, 22, 17, 25, 27, 21, 20, 23, 13, 14]\n",
            "[20, 28, 12, 18, 11, 10, 24, 26, 23, 19]\n",
            "common numbers in two lists [20, 23]\n",
            "unique numbers in both lists [10, 11, 12, 13, 14, 17, 18, 19, 20, 21, 22, 23, 24, 25, 26, 27, 28, 29]\n",
            "minimum in both lists 10\n",
            "maximum in both lists 29\n",
            "sum of both lists 359\n"
          ]
        }
      ]
    },
    {
      "cell_type": "markdown",
      "source": [
        "Q.6Create a list of random numbers between 100 and 900.Count and print the:-"
      ],
      "metadata": {
        "id": "E9eYgcgS47nl"
      }
    },
    {
      "cell_type": "code",
      "source": [
        "import random as s\n",
        "L=r.sample(range(100,901),100)\n",
        "print(L)\n",
        "def Evenno(n):\n",
        "  if n%2==0:\n",
        "    return True\n",
        "  return False\n",
        "def Oddno(n):\n",
        "  if n%2==0:\n",
        "    return False\n",
        "  return True\n",
        "def IsPrime(n):\n",
        "  for i in range(2,n//2+1):\n",
        "    if n%i==0:\n",
        "      return False\n",
        "  return True\n",
        "\n",
        "\n",
        "for n in L:\n",
        "  #all odd numbers\n",
        "  if Oddno(n):\n",
        "    print(\"Oddno\",n)\n",
        "\n",
        "  #all even numbers\n",
        "  if Evenno(n):\n",
        "    print(\"Evenno\",n)\n",
        "  #all prime numbers\n",
        "  if IsPrime(n):\n",
        "    print(\"Primeno\",n)"
      ],
      "metadata": {
        "id": "yrLRBTrPBtYr",
        "outputId": "367467b1-0c79-4b87-c012-44866fc1bdb3",
        "colab": {
          "base_uri": "https://localhost:8080/"
        }
      },
      "execution_count": null,
      "outputs": [
        {
          "output_type": "stream",
          "name": "stdout",
          "text": [
            "[290, 238, 743, 380, 203, 527, 526, 335, 591, 693, 846, 315, 476, 123, 786, 549, 223, 196, 454, 680, 399, 603, 153, 355, 893, 486, 652, 301, 633, 635, 149, 739, 405, 396, 584, 612, 891, 440, 551, 661, 434, 844, 406, 142, 768, 637, 144, 558, 710, 448, 173, 518, 206, 686, 205, 883, 627, 689, 291, 536, 778, 808, 321, 497, 554, 764, 308, 845, 143, 895, 621, 816, 318, 374, 784, 632, 433, 660, 848, 795, 487, 780, 148, 763, 645, 699, 571, 174, 588, 395, 873, 860, 748, 669, 436, 740, 709, 708, 796, 181]\n",
            "Evenno 290\n",
            "Evenno 238\n",
            "Oddno 743\n",
            "Primeno 743\n",
            "Evenno 380\n",
            "Oddno 203\n",
            "Oddno 527\n",
            "Evenno 526\n",
            "Oddno 335\n",
            "Oddno 591\n",
            "Oddno 693\n",
            "Evenno 846\n",
            "Oddno 315\n",
            "Evenno 476\n",
            "Oddno 123\n",
            "Evenno 786\n",
            "Oddno 549\n",
            "Oddno 223\n",
            "Primeno 223\n",
            "Evenno 196\n",
            "Evenno 454\n",
            "Evenno 680\n",
            "Oddno 399\n",
            "Oddno 603\n",
            "Oddno 153\n",
            "Oddno 355\n",
            "Oddno 893\n",
            "Evenno 486\n",
            "Evenno 652\n",
            "Oddno 301\n",
            "Oddno 633\n",
            "Oddno 635\n",
            "Oddno 149\n",
            "Primeno 149\n",
            "Oddno 739\n",
            "Primeno 739\n",
            "Oddno 405\n",
            "Evenno 396\n",
            "Evenno 584\n",
            "Evenno 612\n",
            "Oddno 891\n",
            "Evenno 440\n",
            "Oddno 551\n",
            "Oddno 661\n",
            "Primeno 661\n",
            "Evenno 434\n",
            "Evenno 844\n",
            "Evenno 406\n",
            "Evenno 142\n",
            "Evenno 768\n",
            "Oddno 637\n",
            "Evenno 144\n",
            "Evenno 558\n",
            "Evenno 710\n",
            "Evenno 448\n",
            "Oddno 173\n",
            "Primeno 173\n",
            "Evenno 518\n",
            "Evenno 206\n",
            "Evenno 686\n",
            "Oddno 205\n",
            "Oddno 883\n",
            "Primeno 883\n",
            "Oddno 627\n",
            "Oddno 689\n",
            "Oddno 291\n",
            "Evenno 536\n",
            "Evenno 778\n",
            "Evenno 808\n",
            "Oddno 321\n",
            "Oddno 497\n",
            "Evenno 554\n",
            "Evenno 764\n",
            "Evenno 308\n",
            "Oddno 845\n",
            "Oddno 143\n",
            "Oddno 895\n",
            "Oddno 621\n",
            "Evenno 816\n",
            "Evenno 318\n",
            "Evenno 374\n",
            "Evenno 784\n",
            "Evenno 632\n",
            "Oddno 433\n",
            "Primeno 433\n",
            "Evenno 660\n",
            "Evenno 848\n",
            "Oddno 795\n",
            "Oddno 487\n",
            "Primeno 487\n",
            "Evenno 780\n",
            "Evenno 148\n",
            "Oddno 763\n",
            "Oddno 645\n",
            "Oddno 699\n",
            "Oddno 571\n",
            "Primeno 571\n",
            "Evenno 174\n",
            "Evenno 588\n",
            "Oddno 395\n",
            "Oddno 873\n",
            "Evenno 860\n",
            "Evenno 748\n",
            "Oddno 669\n",
            "Evenno 436\n",
            "Evenno 740\n",
            "Oddno 709\n",
            "Primeno 709\n",
            "Evenno 708\n",
            "Evenno 796\n",
            "Oddno 181\n",
            "Primeno 181\n"
          ]
        }
      ]
    },
    {
      "cell_type": "markdown",
      "source": [
        "Q.7 D={1:\"One\",2:\"two\",3:\"three\",4:\"four\",5:\"five\"}\n",
        "wap to read all the keys and values from dictionary and write to the file inthe given below format"
      ],
      "metadata": {
        "id": "8pNLYkFyK144"
      }
    },
    {
      "cell_type": "code",
      "source": [
        "D={1:\"One\",2:\"two\",3:\"three\",4:\"four\",5:\"five\"}\n",
        "\n",
        "with open(\"Dictionary.txt\",\"w\") as file:#open the file in writing mode\n",
        "  for key, value in D.items():\n",
        "    file.write(f\"key{key},value {value}\\n\")\n",
        "with open(\"Dictionary.txt\",\"r\") as file:\n",
        "  print(file.read())\n"
      ],
      "metadata": {
        "colab": {
          "base_uri": "https://localhost:8080/"
        },
        "id": "8NJS2G5wHDlw",
        "outputId": "96f5f7cd-f227-401c-d73a-8d8e49be91d9"
      },
      "execution_count": null,
      "outputs": [
        {
          "output_type": "stream",
          "name": "stdout",
          "text": [
            "key1,value One\n",
            "key2,value two\n",
            "key3,value three\n",
            "key4,value four\n",
            "key5,value five\n",
            "\n"
          ]
        }
      ]
    },
    {
      "cell_type": "markdown",
      "source": [
        "Q.8 L ={\"One\",\"two\",\"three\",\"four\",\"five\"}\n",
        "wap to count the length of each element from a list and writev to the file in the given format"
      ],
      "metadata": {
        "id": "6N_rFJ_MK4KI"
      }
    },
    {
      "cell_type": "markdown",
      "source": [],
      "metadata": {
        "id": "BjlI-VzSGf1i"
      }
    },
    {
      "cell_type": "code",
      "source": [
        "L =[\"One\",\"two\",\"three\",\"four\",\"five\"]\n",
        "with open(\"List.txt\",\"w\") as file:\n",
        "  for value in L:\n",
        "    item=value\n",
        "    count=len(value)\n",
        "    file.write(f\"{item},{count}\\n\")\n",
        "with open(\"List.txt\",\"r\") as file:\n",
        "  print(file.read())\n",
        "\n"
      ],
      "metadata": {
        "colab": {
          "base_uri": "https://localhost:8080/"
        },
        "id": "THKuZkouGSyP",
        "outputId": "45e1631f-9c41-43b1-a832-36493a895ce9"
      },
      "execution_count": null,
      "outputs": [
        {
          "output_type": "stream",
          "name": "stdout",
          "text": [
            "One,3\n",
            "two,3\n",
            "three,5\n",
            "four,4\n",
            "five,4\n",
            "\n"
          ]
        }
      ]
    },
    {
      "cell_type": "markdown",
      "source": [
        "Q.9 write to the file 100 random string whose length between 10 and 15"
      ],
      "metadata": {
        "id": "kEV5m0NUNFmh"
      }
    },
    {
      "cell_type": "code",
      "source": [
        "import random as r\n",
        "import string as s\n",
        "with open (\"Random.txt\",\"w\")as file:\n",
        "  for _ in range(100):\n",
        "\n",
        "    length = r.randint(10,15)\n",
        "    random_string = ''.join(r.sample(s.ascii_letters,length))\n",
        "    file.write(random_string+'\\n')\n",
        "\n",
        "with open (\"Random.txt\",\"r\") as file:\n",
        "  print(file.read())"
      ],
      "metadata": {
        "colab": {
          "base_uri": "https://localhost:8080/"
        },
        "id": "H_B1dbNfOPVu",
        "outputId": "db77ac20-9f1b-4f39-dbb6-1d2066832685"
      },
      "execution_count": null,
      "outputs": [
        {
          "output_type": "stream",
          "name": "stdout",
          "text": [
            "GQwCtdyHJlBzqnp\n",
            "NVflnhAsvoEIjF\n",
            "cmSlDEzWrTiKLVn\n",
            "mZxFGPofalqVgA\n",
            "WmLhBMbuxUS\n",
            "IfRNMmFCedVZ\n",
            "krXRMfDzdIKjQF\n",
            "lBqHOgTZcQEzKI\n",
            "MvsKaBSJQnqRFT\n",
            "SNiuoFsERU\n",
            "wOGtiekaRADQsV\n",
            "MnYuVRJcsaQZvri\n",
            "laxshyHVjPKOuob\n",
            "vksfuTUbIrAWFS\n",
            "EiMUYgFQSpfceOR\n",
            "DLAWjvTqKm\n",
            "ScHKqXWwEOTFY\n",
            "fHndmKOvilRg\n",
            "BuexXlTGJS\n",
            "nKHwuElsdfp\n",
            "wkLtZuAyKq\n",
            "ObzRaQDGLYcsP\n",
            "oMHEiAQUXxYVtIF\n",
            "yOZXTLbBugeU\n",
            "SHVEtMQzdxKPFop\n",
            "yhxSOgkQCztbi\n",
            "ZOWubLJAvQt\n",
            "nXDEaTpvlYP\n",
            "SbNUmPVLWIyBGKA\n",
            "GxNfDlrXEcup\n",
            "hDBAaJlzqpdQc\n",
            "gYETNOdXxtZ\n",
            "LUetZwuAJrzEdDS\n",
            "EULscHQbjZuIx\n",
            "nJiCEbMwrgPW\n",
            "xWwLJrSsNiGBt\n",
            "OLRYUPIZwbaCqn\n",
            "PNqfuHysCzrQb\n",
            "GeDjyREbdg\n",
            "DhonXCEmKeUyFr\n",
            "vwdiheKJXIz\n",
            "TJFwlmvizekhxo\n",
            "phdAtlnGWb\n",
            "aKtgUMXEnCbc\n",
            "nkXuHmqvfSaeDpA\n",
            "mpUPIaxRHvOWn\n",
            "okXCecYsWNtJFjw\n",
            "GjyXMBeYCuW\n",
            "CTcvZkhUDyKPm\n",
            "ytPRxUnJFNM\n",
            "SOkHPVBIrpdJ\n",
            "oVxKynqiZrtYNWb\n",
            "NkJaLoUZPjpQe\n",
            "ItFKzhPJHVMk\n",
            "iRfGoJOKNDEadW\n",
            "VqfJdKzRkevh\n",
            "cTbCherWRdY\n",
            "ngGzHyekbma\n",
            "mdEMGpgATPHV\n",
            "JritbfvdxhUQqyO\n",
            "vuDpUEfYtFr\n",
            "RufltiMwNDWb\n",
            "MOZGkBgrYEmRiV\n",
            "lpowAvtDfqJUCZL\n",
            "YBjXfPvlOZ\n",
            "jZlInQEskfRi\n",
            "gnfVEarqbLywXBP\n",
            "QtqTrZFmWLM\n",
            "tZfApBDNQCkY\n",
            "HZCFzMrcVqwJo\n",
            "FhNKaQWLJPTl\n",
            "IkJbdDQPwc\n",
            "ZxwKUmHJMF\n",
            "KFkqxDGriPJ\n",
            "FlZfneEgMBs\n",
            "DiyAJsgGTCBRxZ\n",
            "CULzAbnMXwT\n",
            "LovxbZVWpMQA\n",
            "XhqKYIpLtbA\n",
            "yLwOjTvEqXDzPsd\n",
            "dKqplCVPvTj\n",
            "vSiYgoXLHQwh\n",
            "tQhvrbjJVwCRns\n",
            "uCYkwnMdcsrWRUv\n",
            "YUSbIcGvlCJW\n",
            "nuHOmhEvldGq\n",
            "SvDrcesxXKuCTl\n",
            "FKtEwcLoPu\n",
            "DRXdIyNBAZPetuF\n",
            "TnNuqkfmowLx\n",
            "yDVtvaFqOcCgs\n",
            "uJdISgBjcO\n",
            "WfzbnkoCcPILrV\n",
            "cXODLBfjykmqGF\n",
            "GRXnTWJZFNCOog\n",
            "HuqemdwJCT\n",
            "AVzDKPySYpfXtw\n",
            "zTixGgfchwPIoR\n",
            "nHTUCfSvZR\n",
            "jWFQxMlfSrm\n",
            "\n"
          ]
        }
      ]
    },
    {
      "cell_type": "markdown",
      "source": [
        "Q.10 Write to the file all prime number between 600 and 800"
      ],
      "metadata": {
        "id": "n0QWuJu1NeJq"
      }
    },
    {
      "cell_type": "code",
      "source": [
        "def IsPrime(n):\n",
        "  for i in range(2,n//2+1):\n",
        "    if n%i==0:\n",
        "      return False\n",
        "  return True\n",
        "\n",
        "with open(\"primenumber.txt\",\"w\") as file:\n",
        "  for n in range(600,800):\n",
        "    if IsPrime(n):\n",
        "      file.write(str(n)+'\\n')\n",
        "with open(\"primenumber.txt\",\"r\") as file:\n",
        "  print(file.read())\n"
      ],
      "metadata": {
        "colab": {
          "base_uri": "https://localhost:8080/"
        },
        "id": "CbWMu4krSS2x",
        "outputId": "6ff874e7-faff-4442-bb2e-5fec7fa5b41c"
      },
      "execution_count": null,
      "outputs": [
        {
          "output_type": "stream",
          "name": "stdout",
          "text": [
            "601\n",
            "607\n",
            "613\n",
            "617\n",
            "619\n",
            "631\n",
            "641\n",
            "643\n",
            "647\n",
            "653\n",
            "659\n",
            "661\n",
            "673\n",
            "677\n",
            "683\n",
            "691\n",
            "701\n",
            "709\n",
            "719\n",
            "727\n",
            "733\n",
            "739\n",
            "743\n",
            "751\n",
            "757\n",
            "761\n",
            "769\n",
            "773\n",
            "787\n",
            "797\n",
            "\n"
          ]
        }
      ]
    },
    {
      "cell_type": "markdown",
      "source": [
        "Q.11 Wap to calculate the time taken by the program"
      ],
      "metadata": {
        "id": "mTL5710NNjsR"
      }
    },
    {
      "cell_type": "code",
      "source": [
        "import time\n",
        "start_time = time.time()\n",
        "\n",
        "#random code whose time neeeds to be calculated\n",
        "def IsPrime(n):\n",
        "  for i in range(2,n//2+1):\n",
        "    if n%i==0:\n",
        "      return False\n",
        "  return True\n",
        "\n",
        "with open(\"primenumber.txt\",\"w\") as file:\n",
        "  for n in range(600,800):\n",
        "    if IsPrime(n):\n",
        "      file.write(str(n)+'\\n')\n",
        "\n",
        "\n",
        "\n",
        "end_time = time.time()\n",
        "elapsed_time = end_time - start_time\n",
        "print(\"Elapsed time\",elapsed_time,\"seconds\")"
      ],
      "metadata": {
        "colab": {
          "base_uri": "https://localhost:8080/"
        },
        "id": "x5u5Mk93UOqL",
        "outputId": "d1c06c88-a9ef-415f-e31f-6288edb78ae9"
      },
      "execution_count": null,
      "outputs": [
        {
          "output_type": "stream",
          "name": "stdout",
          "text": [
            "Elapsed time 0.0022623538970947266 seconds\n"
          ]
        }
      ]
    },
    {
      "cell_type": "markdown",
      "source": [
        "Q.12 wap to sort the folllwoing numbers of element in the list,calculate time taken and plot the graph,."
      ],
      "metadata": {
        "id": "SQrWtJwsNyLi"
      }
    },
    {
      "cell_type": "code",
      "source": [
        "import time\n",
        "import matplotlib.pyplot as plt\n",
        "\n",
        "D={'T1':'5k','T2':'10k','T3':'15k','T4':'20k','T5':'25k'}\n",
        "L=list(D.values())\n",
        "\n",
        "sizes=[]\n",
        "times=[]\n",
        "\n",
        "for i in range(len(L)):\n",
        "  start_time = time.time()\n",
        "  L.sort()\n",
        "  end_time = time.time()\n",
        "  elapsed_time  = end_time  - start_time\n",
        "  sizes.append(D['T' + str(i + 1)])\n",
        "  times.append(elapsed_time)\n",
        "\n",
        "print(L)\n",
        "\n",
        "plt.plot(sizes,times,marker='o')\n",
        "plt.xlabel('List Size')\n",
        "plt.ylabel('Time(seconds)')\n",
        "plt.title('Sorting time VS List size')\n",
        "plt.show\n",
        "\n",
        "\n",
        "\n"
      ],
      "metadata": {
        "colab": {
          "base_uri": "https://localhost:8080/",
          "height": 506
        },
        "id": "KVJij4pqfr8B",
        "outputId": "94bd05eb-bb3a-41bb-e57f-8b41796e4bbb"
      },
      "execution_count": null,
      "outputs": [
        {
          "output_type": "stream",
          "name": "stdout",
          "text": [
            "['10k', '15k', '20k', '25k', '5k']\n"
          ]
        },
        {
          "output_type": "execute_result",
          "data": {
            "text/plain": [
              "<function matplotlib.pyplot.show(close=None, block=None)>"
            ]
          },
          "metadata": {},
          "execution_count": 41
        },
        {
          "output_type": "display_data",
          "data": {
            "text/plain": [
              "<Figure size 640x480 with 1 Axes>"
            ],
            "image/png": "[encoded data removed]"
          },
          "metadata": {}
        }
      ]
    },
    {
      "cell_type": "markdown",
      "source": [
        "# Q.13WAP to create a dictionary of student marks in five subjects and you have to find the students having maximum and minimum average numbers."
      ],
      "metadata": {
        "id": "wA9n1Yn5NzJj"
      }
    },
    {
      "cell_type": "code",
      "source": [
        "D={'Cheshta':[60,30,70,80,90],'Mudit':[30,70,80,99,60],'Raj':[70,80,90,66,30],'Baldev':[80,90,80,30,70],'Anurag':[90,67,90,70,80]}\n",
        "#calculate average marks of each student\n",
        "average_marks={}\n",
        "for student,marks in D.items():\n",
        "  average = sum(marks)/len(marks)\n",
        "  average_marks[student] = average\n",
        "print(average_marks)\n",
        "\n",
        "max_average = max(average_marks.values())\n",
        "student_max_average=[student for student,average in average_marks.items() if average==max_average]\n",
        "min_average= min(average_marks.values())\n",
        "student_min_average=[student for student ,average in average_marks.items() if average==min_average]\n",
        "\n",
        "print(student_max_average,max_average)\n",
        "print(student_min_average,min_average)\n",
        "\n"
      ],
      "metadata": {
        "colab": {
          "base_uri": "https://localhost:8080/"
        },
        "id": "Sg_NAfERmrcw",
        "outputId": "4e4f42c7-5472-4ac1-cea6-e7f90118a698"
      },
      "execution_count": null,
      "outputs": [
        {
          "output_type": "stream",
          "name": "stdout",
          "text": [
            "{'Cheshta': 66.0, 'Mudit': 67.8, 'Raj': 67.2, 'Baldev': 70.0, 'Anurag': 79.4}\n",
            "['Anurag'] 79.4\n",
            "['Cheshta'] 66.0\n"
          ]
        }
      ]
    },
    {
      "cell_type": "code",
      "source": [
        "#write a python program to sort the list of hetrogeneous data\n",
        "\n",
        "data = [3, 'apple', 1.5, 'banana', True, 'orange', 2.7]\n",
        "\n",
        "sorted_data = sorted(data, key=lambda x: (type(x).__name__, x))\n",
        "\n",
        "print(sorted_data)\n",
        "#The sorted() function is used to sort the data list. The key parameter is set to a lambda function that determines the sorting criteria.\n",
        "# In this case, the lambda function extracts the type name of each element using type(x).__name__.\n",
        "#It first sorts based on the type name (e.g., 'bool', 'float', 'int', 'str') and then sorts within each type based on the actual value x."
      ],
      "metadata": {
        "colab": {
          "base_uri": "https://localhost:8080/"
        },
        "id": "NrAgxHCO_qII",
        "outputId": "1d934126-df00-4e28-e0b0-685a55ccefec"
      },
      "execution_count": null,
      "outputs": [
        {
          "output_type": "stream",
          "name": "stdout",
          "text": [
            "[True, 1.5, 2.7, 3, 'apple', 'banana', 'orange']\n"
          ]
        }
      ]
    }
  ]
}